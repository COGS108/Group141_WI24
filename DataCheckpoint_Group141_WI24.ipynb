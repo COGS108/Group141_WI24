{
 "cells": [
  {
   "cell_type": "markdown",
   "metadata": {},
   "source": [
    "# COGS 108 - Data Checkpoint"
   ]
  },
  {
   "cell_type": "markdown",
   "metadata": {},
   "source": [
    "# Names\n",
    "\n",
    "- Shivangi Gupta\n",
    "- Joseph Hwang\n",
    "- Zijun Yang\n",
    "- Johnny Gonzales\n",
    "- Tanishq Rathore"
   ]
  },
  {
   "cell_type": "markdown",
   "metadata": {},
   "source": [
    "# Research Question"
   ]
  },
  {
   "cell_type": "markdown",
   "metadata": {},
   "source": [
    "Utilizing clinical MRI Data and personal details of an individual, can we predict via machine learning model whether an individual will have an onset of Alzheimer's disease? Features the model will be trained on include variables such as Mini Mental State Examination (MMSE), visit number, Clinical Dementia Rating (CDR), gender, age, years of education, socioeconomic status, Estimated total intracranial volume (eTIV), Normalize Whole Brain Volume (nWBV), and Atlas Scaling Factor (ASF)."
   ]
  },
  {
   "cell_type": "markdown",
   "metadata": {},
   "source": [
    "## Background and Prior Work"
   ]
  },
  {
   "cell_type": "markdown",
   "metadata": {},
   "source": [
    "Advancements in healthcare, improvements in living conditions, and\n",
    "breakthroughs in medicine have collectively contributed to longer life\n",
    "expectancies worldwide; simultaneously, developed countries are also\n",
    "experiencing declining fertility\n",
    "rates.[<sup>1</sup>](https://www.ncbi.nlm.nih.gov/pmc/articles/PMC4255510/)\n",
    "The combination of these two circumstances has resulted in the\n",
    "proportion of older people within populations to steadily increase. The\n",
    "World Health Organization (WHO) reported that “in 2020, the number of\n",
    "people aged 60 and older outnumbered children younger than 5\n",
    "years”.[<sup>2</sup>](https://www.who.int/news-room/fact-sheets/detail/ageing-and-health)\n",
    "In addition, they also state that “between 2015 and 2050, the proportion\n",
    "of the world’s population over 60 years will nearly double from 12% to\n",
    "22%”. As a result, it is reasonable that we examine common health\n",
    "conditions associated with older age, one being Alzheimer’s disease.\n",
    "\n",
    "So what is Alzheimer’s disease? Alzheimer’s disease is a progressive\n",
    "neurodegenerative brain disorder that impairs memory and cognitive\n",
    "functions. It is the most common cause of dementia and affects about 6.5\n",
    "million people in the United States who are aged 65 and\n",
    "older.[<sup>3</sup>](https://www.mayoclinic.org/diseases-conditions/alzheimers-disease/symptoms-causes/syc-20350447)\n",
    "At the moment, there are no cures for the disease but medicines may\n",
    "improve or slow the progression of\n",
    "symptoms.[<sup>3</sup>](https://www.mayoclinic.org/diseases-conditions/alzheimers-disease/symptoms-causes/syc-20350447)\n",
    "As such, it is our project to create a model that is able to predict\n",
    "Alzheimer’s disease based on clinical data that include factors that\n",
    "show risk and progression of the disease.\n",
    "\n",
    "There are several other projects that have asked similar questions and\n",
    "approached similar problems for other diseases. For instance, one study\n",
    "tried to use machine learning methods to predict risk of cardiovascular\n",
    "disease based on major contributing\n",
    "factors.[<sup>4</sup>](https://www.ncbi.nlm.nih.gov/pmc/articles/PMC10036320/)\n",
    "Similarly, another paper used machine learning and ranker-based feature\n",
    "selection methods to predict eye diseases based on\n",
    "symptoms.[<sup>5</sup>](https://www.ncbi.nlm.nih.gov/pmc/articles/PMC9854513/)\n",
    "Lastly, there was a paper that predicted thyroid disease using selective\n",
    "features and machine learning\n",
    "techniques.[<sup>6</sup>](https://www.ncbi.nlm.nih.gov/pmc/articles/PMC9405591/)\n",
    "All three papers seem to have been relatively successful in predicting\n",
    "the disease based on distinct features. Evidently, training machine\n",
    "learning models based on datasets which contain factors and indicators\n",
    "for a given disease is not a novel format of question and method; we\n",
    "hope to achieve similarly for Alzheimer’s disease.\n",
    "\n",
    "<u>In-Depth Study Analysis</u>\n",
    "\n",
    "Our group analyzed two studies published in the National Institute of\n",
    "Health’s (NIH) journal database. The first study[<sup>7</sup>](https://www.ncbi.nlm.nih.gov/pmc/articles/PMC8927715/) employed\n",
    "machine learning models to predict early-stage Alzheimer's Disease using\n",
    "Open Access Series of Imaging Studies (OASIS) data, focusing on metrics\n",
    "like precision, recall, accuracy, and F1-score. The authors, with\n",
    "backgrounds in technology and health research, aimed to enhance early\n",
    "diagnosis, potentially lowering Alzheimer's mortality rates. The study\n",
    "demonstrated that machine learning techniques such as decision trees,\n",
    "random forests, SVM, gradient boosting, and voting classifiers can\n",
    "effectively predict early-stage Alzheimer's Disease with an accuracy of\n",
    "up to 83%. This achievement highlights the critical role of data science\n",
    "in identifying Alzheimer's at an early phase, leveraging feature\n",
    "selection and advanced algorithms to enhance diagnostic accuracy. Early\n",
    "detection is crucial for timely intervention, potentially mitigating the\n",
    "disease's progression and impact on patients and their families (Kavitha\n",
    "et al.).\n",
    "\n",
    "The second study[<sup>8</sup>](https://www.ncbi.nlm.nih.gov/pmc/articles/PMC6138240/) titled\n",
    "“Application of machine learning methods for diagnosis of dementia based\n",
    "on the 10/66 battery of cognitive function tests in south India”\n",
    "investigated the use of machine learning for diagnosing dementia in\n",
    "South India, employing the culturally and educationally fair 10/66\n",
    "battery of cognitive function tests designed for use in low and\n",
    "middle-income countries. Through the analysis of neuropsychological\n",
    "data, demographic information, and normative data, the research applied\n",
    "Jrip classification algorithm among others, achieving high diagnostic\n",
    "accuracy. This approach demonstrates the potential to streamline the\n",
    "diagnostic process, making it quicker and more accessible for clinicians\n",
    "and patients in India, thereby addressing the significant healthcare\n",
    "challenge of efficiently identifying dementia in community settings\n",
    "(Bhagyashree et al).\n",
    "\n",
    "<u>In-Depth Analysis of Similar Projects</u>\n",
    "\n",
    "Our group also delved into actual Kaggle projects that are directly\n",
    "associated with the dataset we’ve chosen to use, delving into EDA and\n",
    "prediction models using Scikit-Learn and Tensorflow. The first\n",
    "project[<sup>9</sup>](https://www.kaggle.com/code/shreyaspj/alzheimer-s-analysis-using-mri)\n",
    "I will discuss starts with an introduction to Alzheimer's disease and\n",
    "the problem statement of estimating the Clinical Dementia Rating (CDR)\n",
    "using MRI dataset features. It progresses through data loading and\n",
    "preprocessing, including null value handling and normalization, and\n",
    "employs machine learning techniques, specifically mentioning model\n",
    "training with hyperparameter tuning for XGBClassifier and\n",
    "GradientBoostingClassifier. The notebook concludes with predictions and\n",
    "performance evaluation, indicated by confusion matrix and classification\n",
    "report visualizations, and the model was able to reach a final accuracy\n",
    "of \\~80%.\n",
    "\n",
    "The second project[<sup>10</sup>](https://www.kaggle.com/code/andrew32bit/predict-alzheimer-disease-sl-and-tf) tried to predict the Clinical Rating of Alzheimer's disease (CRA) by\n",
    "integrating data loading, visualization, and extensive machine learning,\n",
    "including the use of TensorFlow for neural network models. It explored\n",
    "various machine learning models, with a special emphasis on model\n",
    "training and evaluation, culminating in the finding that the\n",
    "DecisionTreeClassifier performed the best among the models tested. The\n",
    "conclusion stressed the need for more data to enhance the precision of\n",
    "Alzheimer's disease predictions, highlighting the challenge of data\n",
    "scarcity in achieving accurate diagnostic models.\n",
    "\n",
    "**References**\n",
    "\n",
    "1.  [^](https://www.ncbi.nlm.nih.gov/pmc/articles/PMC4255510/) Nargund G. (2009) Declining birth rate in Developed Countries: A\n",
    "     radical policy re-think is required. *Facts, views & vision in\n",
    "     ObGyn, 1(3), 191–193.*\n",
    "     [<u>https://www.ncbi.nlm.nih.gov/pmc/articles/PMC4255510/</u>](https://www.ncbi.nlm.nih.gov/pmc/articles/PMC4255510/)\n",
    "\n",
    "2.  [^](https://www.who.int/news-room/fact-sheets/detail/ageing-and-health) World Health Organization. (1 Oct 2022) Ageing and health. *World\n",
    "     Health Organization*.\n",
    "     [<u>https://www.who.int/news-room/fact-sheets/detail/ageing-and-health</u>](https://www.who.int/news-room/fact-sheets/detail/ageing-and-health)\n",
    "\n",
    "3.  [^](https://www.mayoclinic.org/diseases-conditions/alzheimers-disease/symptoms-causes/syc-20350447) Mayo Foundation for Medical Education and Research. (30\n",
    "     August 2023) Alzheimer’s disease. *Mayo Clinic*.\n",
    "     [<u>https://www.mayoclinic.org/diseases-conditions/alzheimers-disease/symptoms-causes/syc-20350447</u>](https://www.mayoclinic.org/diseases-conditions/alzheimers-disease/symptoms-causes/syc-20350447)\n",
    "\n",
    "4.  [^](https://www.ncbi.nlm.nih.gov/pmc/articles/PMC10036320/) Peng, M., Hou, F., Cheng, Z., Shen, T., Liu, K., Zhao, C., &\n",
    "     Zheng, W. (23 Mar 2023) Prediction of cardiovascular disease risk\n",
    "     based on major contributing features. *Scientific reports, 13(1),\n",
    "     4778*.\n",
    "     [<u>https://www.ncbi.nlm.nih.gov/pmc/articles/PMC10036320/</u>](https://www.ncbi.nlm.nih.gov/pmc/articles/PMC10036320/)\n",
    "\n",
    "5.  [^](https://www.ncbi.nlm.nih.gov/pmc/articles/PMC9854513/) Marouf, A. A., Mottalib, M. M., Alhajj, R., Rokne, J., &\n",
    "     Jafarullah, O. (24 Dec 2022) An Efficient Approach to Predict Eye\n",
    "     Diseases from Symptoms Using Machine Learning and Ranker-Based\n",
    "     Feature Selection Methods. *Bioengineering (Basel, Switzerland),\n",
    "     10(1), 25*.\n",
    "     [<u>https://www.ncbi.nlm.nih.gov/pmc/articles/PMC9854513/</u>](https://www.ncbi.nlm.nih.gov/pmc/articles/PMC9854513/)\n",
    "\n",
    "6.  [^](https://www.ncbi.nlm.nih.gov/pmc/articles/PMC9405591/) Chaganti, R., Rustam, F., De La Torre Díez, I., Mazón, J. L. V.,\n",
    "     Rodríguez, C. L., & Ashraf, I. (13 Aug 2022). Thyroid Disease\n",
    "     Prediction Using Selective Features and Machine Learning\n",
    "     Techniques. *Cancers, 14(16), 3914*.\n",
    "     [<u>https://www.ncbi.nlm.nih.gov/pmc/articles/PMC9405591/</u>](https://www.ncbi.nlm.nih.gov/pmc/articles/PMC9405591/)\n",
    "\n",
    "7.  [^](https://www.ncbi.nlm.nih.gov/pmc/articles/PMC8927715/) Kavitha C, Mani V, Srividhya SR, Khalaf OI, Tavera Romero CA.\n",
    "     Early-Stage Alzheimer's Disease Prediction Using Machine Learning\n",
    "     Models. Front Public Health. 2022 Mar 3;10:853294. doi:\n",
    "     10.3389/fpubh.2022.853294. PMID: 35309200; PMCID: PMC8927715.\n",
    "     [<u>https://www.ncbi.nlm.nih.gov/pmc/articles/PMC8927715/</u>](https://www.ncbi.nlm.nih.gov/pmc/articles/PMC8927715/)\n",
    "\n",
    "8.  [^](https://www.ncbi.nlm.nih.gov/pmc/articles/PMC6138240/) Bhagyashree SIR, Nagaraj K, Prince M, Fall CHD, Krishna M.\n",
    "     Diagnosis of Dementia by Machine learning methods in\n",
    "     Epidemiological studies: a pilot exploratory study from south\n",
    "     India. Soc Psychiatry Psychiatr Epidemiol. 2018 Jan;53(1):77-86.\n",
    "     doi: 10.1007/s00127-017-1410-0. Epub 2017 Jul 11. PMID: 28698926;\n",
    "     PMCID: PMC6138240.\n",
    "     [<u>https://www.ncbi.nlm.nih.gov/pmc/articles/PMC6138240/</u>](https://www.ncbi.nlm.nih.gov/pmc/articles/PMC6138240/)\n",
    "\n",
    "9.  [^](https://www.kaggle.com/code/shreyaspj/alzheimer-s-analysis-using-mri) Reddy, Shreyas. 2021. Alzheimer's analysis using MRI, February\n",
    "     8, 2024.\n",
    "     [<u>https://www.kaggle.com/code/shreyaspj/alzheimer-s-analysis-using-mri</u>](https://www.kaggle.com/code/shreyaspj/alzheimer-s-analysis-using-mri)\n",
    "\n",
    "10. [^](https://www.kaggle.com/code/andrew32bit/predict-alzheimer-disease-sl-and-tf) Andrew. 2017. Predict alzheimer disease sl and tf, February 8, 2024.\n",
    "     [<u>https://www.kaggle.com/code/andrew32bit/predict-alzheimer-disease-sl-and-tf</u>](https://www.kaggle.com/code/andrew32bit/predict-alzheimer-disease-sl-and-tf)"
   ]
  },
  {
   "cell_type": "markdown",
   "metadata": {},
   "source": [
    "# Hypothesis\n"
   ]
  },
  {
   "cell_type": "markdown",
   "metadata": {},
   "source": [
    "Our project's hypothesis is the following: \"It is possible to predict the onset of Alzheimers based on the combination of (1) clinical data* and (2) personal features such as gender, age, years of education, and socioeconomic status.\" We believe that we will be able to successfully train a model that is able to predict the onset of Alzheimer's disease because, as mentioned in the background portion of the proposal, there has been numerous successful machine learning models trained on clinical data to predict the onset of a disease. The clinical data provide variables that capture both the cognitive and structural changes associated with the disease's progression. Incorporating personal features such as gender and age in the prediction model is justified by extensive research indicating that these factors can influence the risk and progression rate of Alzheimer's disease. Together, we believe that this will be enough data to train a model to predict the onset of Alzheimer's disease.\n",
    "\n",
    "*Clinical data include Mini Mental State Examination (MMSE), visit number, Clinical Dementia Rating (CDR), Estimated total intracranial volume (eTIV), Normalize Whole Brain Volume (nWBV), and the Atlas Scaling Factor (ASF)"
   ]
  },
  {
   "cell_type": "markdown",
   "metadata": {},
   "source": [
    "# Data"
   ]
  },
  {
   "cell_type": "markdown",
   "metadata": {},
   "source": [
    "## Data overview\n",
    "\n",
    "- Dataset #1\n",
    "  - Dataset Name: OASIS-2: Longitudinal MRI Data in Nondemented and Demented Older Adults\n",
    "  - Link to the dataset:https://www.oasis-brains.org/#data\n",
    "  - Number of observations: 373\n",
    "  - Number of variables: 15\n",
    "\n",
    "The dataset provided by The Open Access Series of Imaging Studies (OASIS) contains a collection of 150 subjects aged 60 to 96. Each subject was scanned on 2 or more visits, separated by one year for a total of 373 imaging sessions. All subjects were right-handed and included both men and women. 72 subjects were charaterized as nondemented throughout the study. 64 subjects subjects were characterized as demented at their initial vists and remained so for subsequent scans. Lastly, 14 subjects were characterized as nondemented at their initial vist but were subsequently characterized as demented in later visits. Important variables are years of education (EDUC), socioeconomic status (SES; 1 to 5), mini mental state examination (MMSE score), clinical dementia rating (CDR rating scale), estimated total intracranial volume (eTIV), normalize whole brain volume(nWBV), and atlas scaling factor (ASF). \n",
    "\n",
    "The variables may be proxies for Alzheimers/cognitive state (conjecture):\n",
    "- __EDUC__: Represents years of education which may proxy for cognitive reserve. Higher education levels may result in better cognitive function and reduced risk of dementia. \n",
    "- __SES__: Ranging from 1 to 5, is a proxy for income, education level, and occupation, which represents environmental influences on cognitive health. \n",
    "- __MMSE__: A widely used screening tool for cognitive impairment. Scores range from 1 to 30 with higher scores indicating better cognitive function. The examination assesses domains such as orientation, memory, attention, and language. \n",
    "- __CDR__: CDR scale is also commonly used to assess severity of dementia symptoms. The scale ranges from 0 to 3 where 0 indicates no dementia, 0.5 is questionable dementia, 1 is mild dementia, 2 is moderate dementia, and 3 is severe dementia.\n",
    "- __eTIV__: Indicates the total volume inside the skull (including brain tissue, cerebrospinal fluid, etc.). It is measured in cubic centimeters (cc) and can help establish baseline brain size. Decrease/varying sizes may proxy for cognitive function and Alzheimer's risk.\n",
    "- __nWBV__: Represents the volume of the brain normalized to the subject's eTIV. It is expressed as a percentage, reflecting the proportion of the brain occupying the eTIV (nWBV = brain volume / eTIV). Changes in nWBV may be indicative of brain atrophy which is a common feature of Alzheimer's and dementia.\n",
    "- __ASF__: A scaling factor used in brain imaging to adjust for individual differences in brain size and shape. It accounts for variability in brain morphology allowing for accurate comparisons of brain structures.\n",
    "\n",
    "The dataset provided by OASIS is relatively clean and organized. However, some cleaning may be required, such as changing M/F and group to numeric values, dropping columns such as MRI ID, Visit, and Hand which will not be used in our predictions. All of this will be done by manipulating the dataframe. "
   ]
  },
  {
   "cell_type": "markdown",
   "metadata": {},
   "source": [
    "## Dataset #1: oasis_longitudinal.csv"
   ]
  },
  {
   "cell_type": "markdown",
   "metadata": {},
   "source": [
    "### Setup"
   ]
  },
  {
   "cell_type": "code",
   "execution_count": 1,
   "metadata": {},
   "outputs": [],
   "source": [
    "import pandas as pd\n",
    "import numpy as np\n",
    "import seaborn as sns\n",
    "import matplotlib.pyplot as plt\n",
    "%matplotlib inline\n",
    "%config InlineBackend.figure_format ='retina'"
   ]
  },
  {
   "cell_type": "code",
   "execution_count": 2,
   "metadata": {},
   "outputs": [
    {
     "data": {
      "text/html": [
       "<div>\n",
       "<style scoped>\n",
       "    .dataframe tbody tr th:only-of-type {\n",
       "        vertical-align: middle;\n",
       "    }\n",
       "\n",
       "    .dataframe tbody tr th {\n",
       "        vertical-align: top;\n",
       "    }\n",
       "\n",
       "    .dataframe thead th {\n",
       "        text-align: right;\n",
       "    }\n",
       "</style>\n",
       "<table border=\"1\" class=\"dataframe\">\n",
       "  <thead>\n",
       "    <tr style=\"text-align: right;\">\n",
       "      <th></th>\n",
       "      <th>Subject ID</th>\n",
       "      <th>MRI ID</th>\n",
       "      <th>Group</th>\n",
       "      <th>Visit</th>\n",
       "      <th>MR Delay</th>\n",
       "      <th>M/F</th>\n",
       "      <th>Hand</th>\n",
       "      <th>Age</th>\n",
       "      <th>EDUC</th>\n",
       "      <th>SES</th>\n",
       "      <th>MMSE</th>\n",
       "      <th>CDR</th>\n",
       "      <th>eTIV</th>\n",
       "      <th>nWBV</th>\n",
       "      <th>ASF</th>\n",
       "    </tr>\n",
       "  </thead>\n",
       "  <tbody>\n",
       "    <tr>\n",
       "      <th>0</th>\n",
       "      <td>OAS2_0001</td>\n",
       "      <td>OAS2_0001_MR1</td>\n",
       "      <td>Nondemented</td>\n",
       "      <td>1</td>\n",
       "      <td>0</td>\n",
       "      <td>M</td>\n",
       "      <td>R</td>\n",
       "      <td>87</td>\n",
       "      <td>14</td>\n",
       "      <td>2.0</td>\n",
       "      <td>27.0</td>\n",
       "      <td>0.0</td>\n",
       "      <td>1987</td>\n",
       "      <td>0.696</td>\n",
       "      <td>0.883</td>\n",
       "    </tr>\n",
       "    <tr>\n",
       "      <th>1</th>\n",
       "      <td>OAS2_0001</td>\n",
       "      <td>OAS2_0001_MR2</td>\n",
       "      <td>Nondemented</td>\n",
       "      <td>2</td>\n",
       "      <td>457</td>\n",
       "      <td>M</td>\n",
       "      <td>R</td>\n",
       "      <td>88</td>\n",
       "      <td>14</td>\n",
       "      <td>2.0</td>\n",
       "      <td>30.0</td>\n",
       "      <td>0.0</td>\n",
       "      <td>2004</td>\n",
       "      <td>0.681</td>\n",
       "      <td>0.876</td>\n",
       "    </tr>\n",
       "    <tr>\n",
       "      <th>2</th>\n",
       "      <td>OAS2_0002</td>\n",
       "      <td>OAS2_0002_MR1</td>\n",
       "      <td>Demented</td>\n",
       "      <td>1</td>\n",
       "      <td>0</td>\n",
       "      <td>M</td>\n",
       "      <td>R</td>\n",
       "      <td>75</td>\n",
       "      <td>12</td>\n",
       "      <td>NaN</td>\n",
       "      <td>23.0</td>\n",
       "      <td>0.5</td>\n",
       "      <td>1678</td>\n",
       "      <td>0.736</td>\n",
       "      <td>1.046</td>\n",
       "    </tr>\n",
       "    <tr>\n",
       "      <th>3</th>\n",
       "      <td>OAS2_0002</td>\n",
       "      <td>OAS2_0002_MR2</td>\n",
       "      <td>Demented</td>\n",
       "      <td>2</td>\n",
       "      <td>560</td>\n",
       "      <td>M</td>\n",
       "      <td>R</td>\n",
       "      <td>76</td>\n",
       "      <td>12</td>\n",
       "      <td>NaN</td>\n",
       "      <td>28.0</td>\n",
       "      <td>0.5</td>\n",
       "      <td>1738</td>\n",
       "      <td>0.713</td>\n",
       "      <td>1.010</td>\n",
       "    </tr>\n",
       "    <tr>\n",
       "      <th>4</th>\n",
       "      <td>OAS2_0002</td>\n",
       "      <td>OAS2_0002_MR3</td>\n",
       "      <td>Demented</td>\n",
       "      <td>3</td>\n",
       "      <td>1895</td>\n",
       "      <td>M</td>\n",
       "      <td>R</td>\n",
       "      <td>80</td>\n",
       "      <td>12</td>\n",
       "      <td>NaN</td>\n",
       "      <td>22.0</td>\n",
       "      <td>0.5</td>\n",
       "      <td>1698</td>\n",
       "      <td>0.701</td>\n",
       "      <td>1.034</td>\n",
       "    </tr>\n",
       "    <tr>\n",
       "      <th>...</th>\n",
       "      <td>...</td>\n",
       "      <td>...</td>\n",
       "      <td>...</td>\n",
       "      <td>...</td>\n",
       "      <td>...</td>\n",
       "      <td>...</td>\n",
       "      <td>...</td>\n",
       "      <td>...</td>\n",
       "      <td>...</td>\n",
       "      <td>...</td>\n",
       "      <td>...</td>\n",
       "      <td>...</td>\n",
       "      <td>...</td>\n",
       "      <td>...</td>\n",
       "      <td>...</td>\n",
       "    </tr>\n",
       "    <tr>\n",
       "      <th>368</th>\n",
       "      <td>OAS2_0185</td>\n",
       "      <td>OAS2_0185_MR2</td>\n",
       "      <td>Demented</td>\n",
       "      <td>2</td>\n",
       "      <td>842</td>\n",
       "      <td>M</td>\n",
       "      <td>R</td>\n",
       "      <td>82</td>\n",
       "      <td>16</td>\n",
       "      <td>1.0</td>\n",
       "      <td>28.0</td>\n",
       "      <td>0.5</td>\n",
       "      <td>1693</td>\n",
       "      <td>0.694</td>\n",
       "      <td>1.037</td>\n",
       "    </tr>\n",
       "    <tr>\n",
       "      <th>369</th>\n",
       "      <td>OAS2_0185</td>\n",
       "      <td>OAS2_0185_MR3</td>\n",
       "      <td>Demented</td>\n",
       "      <td>3</td>\n",
       "      <td>2297</td>\n",
       "      <td>M</td>\n",
       "      <td>R</td>\n",
       "      <td>86</td>\n",
       "      <td>16</td>\n",
       "      <td>1.0</td>\n",
       "      <td>26.0</td>\n",
       "      <td>0.5</td>\n",
       "      <td>1688</td>\n",
       "      <td>0.675</td>\n",
       "      <td>1.040</td>\n",
       "    </tr>\n",
       "    <tr>\n",
       "      <th>370</th>\n",
       "      <td>OAS2_0186</td>\n",
       "      <td>OAS2_0186_MR1</td>\n",
       "      <td>Nondemented</td>\n",
       "      <td>1</td>\n",
       "      <td>0</td>\n",
       "      <td>F</td>\n",
       "      <td>R</td>\n",
       "      <td>61</td>\n",
       "      <td>13</td>\n",
       "      <td>2.0</td>\n",
       "      <td>30.0</td>\n",
       "      <td>0.0</td>\n",
       "      <td>1319</td>\n",
       "      <td>0.801</td>\n",
       "      <td>1.331</td>\n",
       "    </tr>\n",
       "    <tr>\n",
       "      <th>371</th>\n",
       "      <td>OAS2_0186</td>\n",
       "      <td>OAS2_0186_MR2</td>\n",
       "      <td>Nondemented</td>\n",
       "      <td>2</td>\n",
       "      <td>763</td>\n",
       "      <td>F</td>\n",
       "      <td>R</td>\n",
       "      <td>63</td>\n",
       "      <td>13</td>\n",
       "      <td>2.0</td>\n",
       "      <td>30.0</td>\n",
       "      <td>0.0</td>\n",
       "      <td>1327</td>\n",
       "      <td>0.796</td>\n",
       "      <td>1.323</td>\n",
       "    </tr>\n",
       "    <tr>\n",
       "      <th>372</th>\n",
       "      <td>OAS2_0186</td>\n",
       "      <td>OAS2_0186_MR3</td>\n",
       "      <td>Nondemented</td>\n",
       "      <td>3</td>\n",
       "      <td>1608</td>\n",
       "      <td>F</td>\n",
       "      <td>R</td>\n",
       "      <td>65</td>\n",
       "      <td>13</td>\n",
       "      <td>2.0</td>\n",
       "      <td>30.0</td>\n",
       "      <td>0.0</td>\n",
       "      <td>1333</td>\n",
       "      <td>0.801</td>\n",
       "      <td>1.317</td>\n",
       "    </tr>\n",
       "  </tbody>\n",
       "</table>\n",
       "<p>373 rows × 15 columns</p>\n",
       "</div>"
      ],
      "text/plain": [
       "    Subject ID         MRI ID        Group  Visit  MR Delay M/F Hand  Age  \\\n",
       "0    OAS2_0001  OAS2_0001_MR1  Nondemented      1         0   M    R   87   \n",
       "1    OAS2_0001  OAS2_0001_MR2  Nondemented      2       457   M    R   88   \n",
       "2    OAS2_0002  OAS2_0002_MR1     Demented      1         0   M    R   75   \n",
       "3    OAS2_0002  OAS2_0002_MR2     Demented      2       560   M    R   76   \n",
       "4    OAS2_0002  OAS2_0002_MR3     Demented      3      1895   M    R   80   \n",
       "..         ...            ...          ...    ...       ...  ..  ...  ...   \n",
       "368  OAS2_0185  OAS2_0185_MR2     Demented      2       842   M    R   82   \n",
       "369  OAS2_0185  OAS2_0185_MR3     Demented      3      2297   M    R   86   \n",
       "370  OAS2_0186  OAS2_0186_MR1  Nondemented      1         0   F    R   61   \n",
       "371  OAS2_0186  OAS2_0186_MR2  Nondemented      2       763   F    R   63   \n",
       "372  OAS2_0186  OAS2_0186_MR3  Nondemented      3      1608   F    R   65   \n",
       "\n",
       "     EDUC  SES  MMSE  CDR  eTIV   nWBV    ASF  \n",
       "0      14  2.0  27.0  0.0  1987  0.696  0.883  \n",
       "1      14  2.0  30.0  0.0  2004  0.681  0.876  \n",
       "2      12  NaN  23.0  0.5  1678  0.736  1.046  \n",
       "3      12  NaN  28.0  0.5  1738  0.713  1.010  \n",
       "4      12  NaN  22.0  0.5  1698  0.701  1.034  \n",
       "..    ...  ...   ...  ...   ...    ...    ...  \n",
       "368    16  1.0  28.0  0.5  1693  0.694  1.037  \n",
       "369    16  1.0  26.0  0.5  1688  0.675  1.040  \n",
       "370    13  2.0  30.0  0.0  1319  0.801  1.331  \n",
       "371    13  2.0  30.0  0.0  1327  0.796  1.323  \n",
       "372    13  2.0  30.0  0.0  1333  0.801  1.317  \n",
       "\n",
       "[373 rows x 15 columns]"
      ]
     },
     "execution_count": 2,
     "metadata": {},
     "output_type": "execute_result"
    }
   ],
   "source": [
    "df = pd.read_csv('oasis_longitudinal.csv')\n",
    "df"
   ]
  },
  {
   "cell_type": "code",
   "execution_count": 3,
   "metadata": {},
   "outputs": [
    {
     "data": {
      "text/plain": [
       "(373, 15)"
      ]
     },
     "execution_count": 3,
     "metadata": {},
     "output_type": "execute_result"
    }
   ],
   "source": [
    "df.shape"
   ]
  },
  {
   "cell_type": "code",
   "execution_count": 4,
   "metadata": {},
   "outputs": [
    {
     "name": "stdout",
     "output_type": "stream",
     "text": [
      "<class 'pandas.core.frame.DataFrame'>\n",
      "RangeIndex: 373 entries, 0 to 372\n",
      "Data columns (total 15 columns):\n",
      " #   Column      Non-Null Count  Dtype  \n",
      "---  ------      --------------  -----  \n",
      " 0   Subject ID  373 non-null    object \n",
      " 1   MRI ID      373 non-null    object \n",
      " 2   Group       373 non-null    object \n",
      " 3   Visit       373 non-null    int64  \n",
      " 4   MR Delay    373 non-null    int64  \n",
      " 5   M/F         373 non-null    object \n",
      " 6   Hand        373 non-null    object \n",
      " 7   Age         373 non-null    int64  \n",
      " 8   EDUC        373 non-null    int64  \n",
      " 9   SES         354 non-null    float64\n",
      " 10  MMSE        371 non-null    float64\n",
      " 11  CDR         373 non-null    float64\n",
      " 12  eTIV        373 non-null    int64  \n",
      " 13  nWBV        373 non-null    float64\n",
      " 14  ASF         373 non-null    float64\n",
      "dtypes: float64(5), int64(5), object(5)\n",
      "memory usage: 43.8+ KB\n",
      "None\n"
     ]
    }
   ],
   "source": [
    "print(df.info())"
   ]
  },
  {
   "cell_type": "code",
   "execution_count": 5,
   "metadata": {},
   "outputs": [
    {
     "data": {
      "image/png": "[encoded data removed]",
      "text/plain": [
       "<Figure size 432x288 with 1 Axes>"
      ]
     },
     "metadata": {
      "image/png": {
       "height": 261,
       "width": 388
      },
      "needs_background": "light"
     },
     "output_type": "display_data"
    }
   ],
   "source": [
    "# slightly skewed distribution of SES\n",
    "sns.histplot(df['SES'].dropna(), kde=False)\n",
    "plt.show()"
   ]
  },
  {
   "cell_type": "code",
   "execution_count": 6,
   "metadata": {},
   "outputs": [],
   "source": [
    "df['SES'].fillna(df['SES'].median(), inplace=True) # impute missing socioeconomic status columns using median"
   ]
  },
  {
   "cell_type": "code",
   "execution_count": 7,
   "metadata": {},
   "outputs": [
    {
     "data": {
      "image/png": "[encoded data removed]",
      "text/plain": [
       "<Figure size 432x288 with 1 Axes>"
      ]
     },
     "metadata": {
      "image/png": {
       "height": 261,
       "width": 388
      },
      "needs_background": "light"
     },
     "output_type": "display_data"
    }
   ],
   "source": [
    "# left-skewed distribution of MMSE\n",
    "sns.histplot(df['MMSE'].dropna(), kde=False)\n",
    "plt.show()"
   ]
  },
  {
   "cell_type": "code",
   "execution_count": 8,
   "metadata": {},
   "outputs": [],
   "source": [
    "df['MMSE'].fillna(df['MMSE'].median(), inplace=True) # impute missing MMSE columns using the median"
   ]
  },
  {
   "cell_type": "markdown",
   "metadata": {},
   "source": [
    "### Ensure no more Missing Values"
   ]
  },
  {
   "cell_type": "code",
   "execution_count": 9,
   "metadata": {},
   "outputs": [
    {
     "data": {
      "text/plain": [
       "0"
      ]
     },
     "execution_count": 9,
     "metadata": {},
     "output_type": "execute_result"
    }
   ],
   "source": [
    "df['SES'].isna().sum()"
   ]
  },
  {
   "cell_type": "code",
   "execution_count": 10,
   "metadata": {},
   "outputs": [
    {
     "data": {
      "text/plain": [
       "0"
      ]
     },
     "execution_count": 10,
     "metadata": {},
     "output_type": "execute_result"
    }
   ],
   "source": [
    "df['MMSE'].isna().sum()"
   ]
  },
  {
   "cell_type": "code",
   "execution_count": 11,
   "metadata": {},
   "outputs": [
    {
     "data": {
      "text/plain": [
       "Subject ID    0\n",
       "MRI ID        0\n",
       "Group         0\n",
       "Visit         0\n",
       "MR Delay      0\n",
       "M/F           0\n",
       "Hand          0\n",
       "Age           0\n",
       "EDUC          0\n",
       "SES           0\n",
       "MMSE          0\n",
       "CDR           0\n",
       "eTIV          0\n",
       "nWBV          0\n",
       "ASF           0\n",
       "dtype: int64"
      ]
     },
     "execution_count": 11,
     "metadata": {},
     "output_type": "execute_result"
    }
   ],
   "source": [
    "df.isnull().sum()"
   ]
  },
  {
   "cell_type": "markdown",
   "metadata": {},
   "source": [
    "## Data Cleaning"
   ]
  },
  {
   "cell_type": "markdown",
   "metadata": {},
   "source": [
    "Our data cleaning approach was quite straightforward. Once we imputed the missing values in the 'SES' and 'MMSE' columns using the medians because of their non-normal distributions, we simply had to ensure our relevant columns were of the correct data type, encoded numerically, and renamed for easier understanding. We chose to use a subset of the data, only subjects' first visits as that is the most appropriate for our prediction task for determing the early onset of Alzheimers/Dementia based on an initial visit. Then, we renamed the 'M/F' column and encoded it to be binary, updated the target variable, 'Group,' to have binary values of (1,0) representing the final categorization of Demented or Nondemented, respectively. Lastly, we dropped extraneous columns such as 'Hand' and 'MRI ID' that will not be used in our prediction models."
   ]
  },
  {
   "cell_type": "code",
   "execution_count": 12,
   "metadata": {},
   "outputs": [
    {
     "data": {
      "text/plain": [
       "array(['Nondemented', 'Demented', 'Converted'], dtype=object)"
      ]
     },
     "execution_count": 12,
     "metadata": {},
     "output_type": "execute_result"
    }
   ],
   "source": [
    "df['Group'].unique() # 'Converted' are those individuals who were initially Nondemented but then became Demented"
   ]
  },
  {
   "cell_type": "code",
   "execution_count": 13,
   "metadata": {},
   "outputs": [],
   "source": [
    "pd.options.mode.copy_on_write = True\n",
    "\n",
    "#Only use date from subjects' first visits\n",
    "df = df.loc[df['Visit']==1]\n",
    "\n",
    "#Convert M/F to numeric values and rename\n",
    "df['Gender'] = df['M/F'].map({'F': 0, 'M': 1})\n",
    "\n",
    "#Change 'Converted' to 'Demented'\n",
    "df['Group'] = df['Group'].replace('Converted', 'Demented')\n",
    "\n",
    "#Convert Group to numeric values (these are our target variables)\n",
    "df['Group'] = df['Group'].replace(['Demented', 'Nondemented'], [1,0])\n",
    "\n",
    "#Drop variables that will not be used in predictions\n",
    "df = df.drop(['MRI ID', 'Visit', 'Hand', 'M/F'], axis=1)\n",
    "\n",
    "df = df.reset_index(drop=True)"
   ]
  },
  {
   "cell_type": "code",
   "execution_count": 14,
   "metadata": {},
   "outputs": [
    {
     "data": {
      "text/html": [
       "<div>\n",
       "<style scoped>\n",
       "    .dataframe tbody tr th:only-of-type {\n",
       "        vertical-align: middle;\n",
       "    }\n",
       "\n",
       "    .dataframe tbody tr th {\n",
       "        vertical-align: top;\n",
       "    }\n",
       "\n",
       "    .dataframe thead th {\n",
       "        text-align: right;\n",
       "    }\n",
       "</style>\n",
       "<table border=\"1\" class=\"dataframe\">\n",
       "  <thead>\n",
       "    <tr style=\"text-align: right;\">\n",
       "      <th></th>\n",
       "      <th>Subject ID</th>\n",
       "      <th>Group</th>\n",
       "      <th>MR Delay</th>\n",
       "      <th>Age</th>\n",
       "      <th>EDUC</th>\n",
       "      <th>SES</th>\n",
       "      <th>MMSE</th>\n",
       "      <th>CDR</th>\n",
       "      <th>eTIV</th>\n",
       "      <th>nWBV</th>\n",
       "      <th>ASF</th>\n",
       "      <th>Gender</th>\n",
       "    </tr>\n",
       "  </thead>\n",
       "  <tbody>\n",
       "    <tr>\n",
       "      <th>0</th>\n",
       "      <td>OAS2_0001</td>\n",
       "      <td>0</td>\n",
       "      <td>0</td>\n",
       "      <td>87</td>\n",
       "      <td>14</td>\n",
       "      <td>2.0</td>\n",
       "      <td>27.0</td>\n",
       "      <td>0.0</td>\n",
       "      <td>1987</td>\n",
       "      <td>0.696</td>\n",
       "      <td>0.883</td>\n",
       "      <td>1</td>\n",
       "    </tr>\n",
       "    <tr>\n",
       "      <th>1</th>\n",
       "      <td>OAS2_0002</td>\n",
       "      <td>1</td>\n",
       "      <td>0</td>\n",
       "      <td>75</td>\n",
       "      <td>12</td>\n",
       "      <td>2.0</td>\n",
       "      <td>23.0</td>\n",
       "      <td>0.5</td>\n",
       "      <td>1678</td>\n",
       "      <td>0.736</td>\n",
       "      <td>1.046</td>\n",
       "      <td>1</td>\n",
       "    </tr>\n",
       "    <tr>\n",
       "      <th>2</th>\n",
       "      <td>OAS2_0004</td>\n",
       "      <td>0</td>\n",
       "      <td>0</td>\n",
       "      <td>88</td>\n",
       "      <td>18</td>\n",
       "      <td>3.0</td>\n",
       "      <td>28.0</td>\n",
       "      <td>0.0</td>\n",
       "      <td>1215</td>\n",
       "      <td>0.710</td>\n",
       "      <td>1.444</td>\n",
       "      <td>0</td>\n",
       "    </tr>\n",
       "    <tr>\n",
       "      <th>3</th>\n",
       "      <td>OAS2_0005</td>\n",
       "      <td>0</td>\n",
       "      <td>0</td>\n",
       "      <td>80</td>\n",
       "      <td>12</td>\n",
       "      <td>4.0</td>\n",
       "      <td>28.0</td>\n",
       "      <td>0.0</td>\n",
       "      <td>1689</td>\n",
       "      <td>0.712</td>\n",
       "      <td>1.039</td>\n",
       "      <td>1</td>\n",
       "    </tr>\n",
       "    <tr>\n",
       "      <th>4</th>\n",
       "      <td>OAS2_0007</td>\n",
       "      <td>1</td>\n",
       "      <td>0</td>\n",
       "      <td>71</td>\n",
       "      <td>16</td>\n",
       "      <td>2.0</td>\n",
       "      <td>28.0</td>\n",
       "      <td>0.5</td>\n",
       "      <td>1357</td>\n",
       "      <td>0.748</td>\n",
       "      <td>1.293</td>\n",
       "      <td>1</td>\n",
       "    </tr>\n",
       "    <tr>\n",
       "      <th>...</th>\n",
       "      <td>...</td>\n",
       "      <td>...</td>\n",
       "      <td>...</td>\n",
       "      <td>...</td>\n",
       "      <td>...</td>\n",
       "      <td>...</td>\n",
       "      <td>...</td>\n",
       "      <td>...</td>\n",
       "      <td>...</td>\n",
       "      <td>...</td>\n",
       "      <td>...</td>\n",
       "      <td>...</td>\n",
       "    </tr>\n",
       "    <tr>\n",
       "      <th>145</th>\n",
       "      <td>OAS2_0182</td>\n",
       "      <td>1</td>\n",
       "      <td>0</td>\n",
       "      <td>73</td>\n",
       "      <td>12</td>\n",
       "      <td>2.0</td>\n",
       "      <td>23.0</td>\n",
       "      <td>0.5</td>\n",
       "      <td>1661</td>\n",
       "      <td>0.698</td>\n",
       "      <td>1.056</td>\n",
       "      <td>1</td>\n",
       "    </tr>\n",
       "    <tr>\n",
       "      <th>146</th>\n",
       "      <td>OAS2_0183</td>\n",
       "      <td>0</td>\n",
       "      <td>0</td>\n",
       "      <td>66</td>\n",
       "      <td>13</td>\n",
       "      <td>2.0</td>\n",
       "      <td>30.0</td>\n",
       "      <td>0.0</td>\n",
       "      <td>1495</td>\n",
       "      <td>0.746</td>\n",
       "      <td>1.174</td>\n",
       "      <td>0</td>\n",
       "    </tr>\n",
       "    <tr>\n",
       "      <th>147</th>\n",
       "      <td>OAS2_0184</td>\n",
       "      <td>1</td>\n",
       "      <td>0</td>\n",
       "      <td>72</td>\n",
       "      <td>16</td>\n",
       "      <td>3.0</td>\n",
       "      <td>24.0</td>\n",
       "      <td>0.5</td>\n",
       "      <td>1354</td>\n",
       "      <td>0.733</td>\n",
       "      <td>1.296</td>\n",
       "      <td>0</td>\n",
       "    </tr>\n",
       "    <tr>\n",
       "      <th>148</th>\n",
       "      <td>OAS2_0185</td>\n",
       "      <td>1</td>\n",
       "      <td>0</td>\n",
       "      <td>80</td>\n",
       "      <td>16</td>\n",
       "      <td>1.0</td>\n",
       "      <td>28.0</td>\n",
       "      <td>0.5</td>\n",
       "      <td>1704</td>\n",
       "      <td>0.711</td>\n",
       "      <td>1.030</td>\n",
       "      <td>1</td>\n",
       "    </tr>\n",
       "    <tr>\n",
       "      <th>149</th>\n",
       "      <td>OAS2_0186</td>\n",
       "      <td>0</td>\n",
       "      <td>0</td>\n",
       "      <td>61</td>\n",
       "      <td>13</td>\n",
       "      <td>2.0</td>\n",
       "      <td>30.0</td>\n",
       "      <td>0.0</td>\n",
       "      <td>1319</td>\n",
       "      <td>0.801</td>\n",
       "      <td>1.331</td>\n",
       "      <td>0</td>\n",
       "    </tr>\n",
       "  </tbody>\n",
       "</table>\n",
       "<p>150 rows × 12 columns</p>\n",
       "</div>"
      ],
      "text/plain": [
       "    Subject ID  Group  MR Delay  Age  EDUC  SES  MMSE  CDR  eTIV   nWBV  \\\n",
       "0    OAS2_0001      0         0   87    14  2.0  27.0  0.0  1987  0.696   \n",
       "1    OAS2_0002      1         0   75    12  2.0  23.0  0.5  1678  0.736   \n",
       "2    OAS2_0004      0         0   88    18  3.0  28.0  0.0  1215  0.710   \n",
       "3    OAS2_0005      0         0   80    12  4.0  28.0  0.0  1689  0.712   \n",
       "4    OAS2_0007      1         0   71    16  2.0  28.0  0.5  1357  0.748   \n",
       "..         ...    ...       ...  ...   ...  ...   ...  ...   ...    ...   \n",
       "145  OAS2_0182      1         0   73    12  2.0  23.0  0.5  1661  0.698   \n",
       "146  OAS2_0183      0         0   66    13  2.0  30.0  0.0  1495  0.746   \n",
       "147  OAS2_0184      1         0   72    16  3.0  24.0  0.5  1354  0.733   \n",
       "148  OAS2_0185      1         0   80    16  1.0  28.0  0.5  1704  0.711   \n",
       "149  OAS2_0186      0         0   61    13  2.0  30.0  0.0  1319  0.801   \n",
       "\n",
       "       ASF  Gender  \n",
       "0    0.883       1  \n",
       "1    1.046       1  \n",
       "2    1.444       0  \n",
       "3    1.039       1  \n",
       "4    1.293       1  \n",
       "..     ...     ...  \n",
       "145  1.056       1  \n",
       "146  1.174       0  \n",
       "147  1.296       0  \n",
       "148  1.030       1  \n",
       "149  1.331       0  \n",
       "\n",
       "[150 rows x 12 columns]"
      ]
     },
     "execution_count": 14,
     "metadata": {},
     "output_type": "execute_result"
    }
   ],
   "source": [
    "df"
   ]
  },
  {
   "cell_type": "markdown",
   "metadata": {},
   "source": [
    "## Check to ensure all Correct Data Types"
   ]
  },
  {
   "cell_type": "code",
   "execution_count": 15,
   "metadata": {},
   "outputs": [
    {
     "data": {
      "text/plain": [
       "Subject ID     object\n",
       "Group           int64\n",
       "MR Delay        int64\n",
       "Age             int64\n",
       "EDUC            int64\n",
       "SES           float64\n",
       "MMSE          float64\n",
       "CDR           float64\n",
       "eTIV            int64\n",
       "nWBV          float64\n",
       "ASF           float64\n",
       "Gender          int64\n",
       "dtype: object"
      ]
     },
     "execution_count": 15,
     "metadata": {},
     "output_type": "execute_result"
    }
   ],
   "source": [
    "df.dtypes"
   ]
  },
  {
   "cell_type": "markdown",
   "metadata": {},
   "source": [
    "# Ethics & Privacy"
   ]
  },
  {
   "cell_type": "markdown",
   "metadata": {},
   "source": [
    "Ethics & Privacy Considerations:\n",
    "\n",
    "Biases/Privacy/Terms of Use Issues with Proposed Data:\n",
    "\n",
    "1.  The potential datasets considered, such as OASIS MRI, UK Biobank,\n",
    "     and NACC, may have biases and privacy considerations. For\n",
    "     instance, the OASIS MRI project's terms of use and participant\n",
    "     selection could introduce biases. UK Biobank, despite its size,\n",
    "     might not include a diverse representation of certain populations,\n",
    "     leading to potential biases in the dataset.\n",
    "\n",
    "Potential Biases in Dataset Composition and Collection:\n",
    "\n",
    "2.  Biases may arise in dataset composition and collection, affecting\n",
    "     the equitable analysis of Alzheimer's prediction. For example, if\n",
    "     the data predominantly includes participants from specific\n",
    "     demographic groups, it could introduce biases in the model.\n",
    "     Additionally, variations in data collection methods across\n",
    "     different research centers, as in the case of NACC, may impact\n",
    "     standardization, potentially leading to biases.\n",
    "\n",
    "Detection and Mitigation of Biases:\n",
    "\n",
    "3.  To detect biases, the group will conduct a thorough review of the\n",
    "     dataset sources, including participant demographics and\n",
    "     recruitment methods. During data preprocessing, the team will\n",
    "     analyze variables for potential biases, ensuring a balanced\n",
    "     representation. The group plans to collaborate with experts in the\n",
    "     field and seek external input to validate the fairness and\n",
    "     inclusivity of the dataset.\n",
    "\n",
    "Other Issues Related to Privacy and Equitable Impact:\n",
    "\n",
    "4.  Privacy concerns arise from the sensitive nature of medical data,\n",
    "     especially in Alzheimer's research. Ensuring participant anonymity\n",
    "     and adhering to privacy regulations are paramount. Equitable\n",
    "     impact considerations involve understanding if the model's\n",
    "     predictions could disproportionately affect certain groups. It is\n",
    "     essential to communicate findings responsibly, avoiding\n",
    "     reinforcing existing biases or stigmatizing specific populations.\n",
    "\n",
    "Handling Identified Issues:\n",
    "\n",
    "5.  The group commits to transparently communicating any identified\n",
    "     biases throughout the research process. Mitigation strategies will\n",
    "     be implemented during data preprocessing and model development.\n",
    "     The team will consider alternative datasets or additional sampling\n",
    "     methods if biases persist. Ethical review boards will be\n",
    "     consulted, and the group aims to publish findings with a clear\n",
    "     acknowledgment of potential limitations and biases, promoting\n",
    "     responsible and equitable use of the predictive model.\n",
    "\n",
    "In summary, the group is dedicated to addressing ethical concerns\n",
    "comprehensively, from data collection to analysis and post-analysis.\n",
    "Transparency, collaboration with experts, and continuous evaluation of\n",
    "potential biases will guide the research, ensuring responsible and\n",
    "ethical development of the Alzheimer's prediction model."
   ]
  },
  {
   "cell_type": "markdown",
   "metadata": {},
   "source": [
    "# Team Expectations "
   ]
  },
  {
   "cell_type": "markdown",
   "metadata": {},
   "source": [
    "1. Clear communication and relatively reasonable responsiveness to messages.\n",
    "2. Shared Responsibility and Accountability: finish all tasked work by the designated due date.\n",
    "3. Maintain quality work and attention to detail.\n",
    "4. Attendance and Participation: during designated days in which we meet, everyone should be present unless notified previously. "
   ]
  },
  {
   "cell_type": "markdown",
   "metadata": {},
   "source": [
    "# Project Timeline Proposal"
   ]
  },
  {
   "cell_type": "markdown",
   "metadata": {},
   "source": [
    "| Meeting Date  | Meeting Time| Completed Before Meeting  | Discuss at Meeting |\n",
    "|---|---|---|---|\n",
    "| 2/24  | 6 PM  | Import & Wrangle Data (Joseph); | Review/Edit wrangling; Discuss Analysis Plan and EDA   |\n",
    "| 3/9  | 12 PM  | Finalize wrangling/EDA; Begin Analysis (Shivangi; Zijun) | Discuss/edit Analysis; Complete project check-in |\n",
    "| 3/13  | 12 PM  | Complete analysis; Draft results/conclusion/discussion (Johnny; Tanishq)| Discuss/edit full project |\n",
    "| 3/20  | Before 11:59 PM  | NA | Turn in Final Project & Group Project Surveys |"
   ]
  },
  {
   "cell_type": "code",
   "execution_count": null,
   "metadata": {},
   "outputs": [],
   "source": []
  }
 ],
 "metadata": {
  "kernelspec": {
   "display_name": "Python 3 (ipykernel)",
   "language": "python",
   "name": "python3"
  },
  "language_info": {
   "codemirror_mode": {
    "name": "ipython",
    "version": 3
   },
   "file_extension": ".py",
   "mimetype": "text/x-python",
   "name": "python",
   "nbconvert_exporter": "python",
   "pygments_lexer": "ipython3",
   "version": "3.9.5"
  }
 },
 "nbformat": 4,
 "nbformat_minor": 2
}
